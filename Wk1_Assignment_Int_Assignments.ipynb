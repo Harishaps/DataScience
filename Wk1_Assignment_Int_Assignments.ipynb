{
 "cells": [
  {
   "cell_type": "code",
   "execution_count": 1,
   "metadata": {
    "ExecuteTime": {
     "end_time": "2021-04-18T08:26:15.296297Z",
     "start_time": "2021-04-18T08:26:15.277290Z"
    }
   },
   "outputs": [
    {
     "name": "stdout",
     "output_type": "stream",
     "text": [
      "<class 'int'> 140710823471168\n"
     ]
    }
   ],
   "source": [
    "# Declare an int value and store it in a variable.\n",
    "# Check the type and print the id of the same.\n",
    "a = 10\n",
    "print(type(a),id(a))"
   ]
  },
  {
   "cell_type": "code",
   "execution_count": 2,
   "metadata": {
    "ExecuteTime": {
     "end_time": "2021-04-18T08:26:45.020618Z",
     "start_time": "2021-04-18T08:26:45.013624Z"
    }
   },
   "outputs": [
    {
     "name": "stdout",
     "output_type": "stream",
     "text": [
      "140710823471168 - 140710823471168\n"
     ]
    }
   ],
   "source": [
    "# Take one int value between 0 - 256.\n",
    "# Assign it to two different variables.\n",
    "# Check the id of both the variables. It should come the same. Check why?\n",
    "a = 10\n",
    "b = a\n",
    "print(id(a),\"-\",id(b))"
   ]
  },
  {
   "cell_type": "code",
   "execution_count": 4,
   "metadata": {
    "ExecuteTime": {
     "end_time": "2021-04-18T08:27:21.396729Z",
     "start_time": "2021-04-18T08:27:21.387736Z"
    }
   },
   "outputs": [
    {
     "name": "stdout",
     "output_type": "stream",
     "text": [
      "140710823470752 - 140710823479008\n"
     ]
    }
   ],
   "source": [
    "# Take one int value either less than -5 or greater than 256.\n",
    "# Assign it to two different variables.\n",
    "# Check the id of both the variables. It should come different.Check why?\n",
    "a = -3\n",
    "b = 255\n",
    "print(id(a),\"-\",id(b))"
   ]
  },
  {
   "cell_type": "code",
   "execution_count": 5,
   "metadata": {
    "ExecuteTime": {
     "end_time": "2021-04-18T08:28:21.959785Z",
     "start_time": "2021-04-18T08:28:21.944177Z"
    }
   },
   "outputs": [
    {
     "name": "stdout",
     "output_type": "stream",
     "text": [
      "30\n",
      "10\n",
      "200\n",
      "2.0\n",
      "2\n",
      "0\n",
      "10240000000000\n"
     ]
    }
   ],
   "source": [
    "# Arithmetic Operations on integers\n",
    "# Take two different integer values.\n",
    "# Store them in two different variables.\n",
    "a = 20\n",
    "b = 10\n",
    "# Do below operations on them:-\n",
    "# Find sum of both numbers\n",
    "print(a + b)\n",
    "# Find difference between them\n",
    "print(a-b)\n",
    "# Find the product of both numbers.\n",
    "print(a*b)\n",
    "# Find value after dividing first num with second number\n",
    "print(a/b)\n",
    "# Find the remainder after dividing first number with second number\n",
    "print(a//b)\n",
    "# Find the quotient after dividing first number with second number\n",
    "print(a%b)\n",
    "# Find the result of the first num to the power of the second number.\n",
    "print(a**b)"
   ]
  },
  {
   "cell_type": "code",
   "execution_count": 6,
   "metadata": {
    "ExecuteTime": {
     "end_time": "2021-04-18T08:29:21.901990Z",
     "start_time": "2021-04-18T08:29:21.884005Z"
    }
   },
   "outputs": [
    {
     "name": "stdout",
     "output_type": "stream",
     "text": [
      "True\n",
      "False\n",
      "True\n",
      "False\n"
     ]
    }
   ],
   "source": [
    "# Comparison Operators on integers\n",
    "# Take two different integer values.\n",
    "# Store them in two different variables.\n",
    "a = 30\n",
    "b = 10\n",
    "# Do below operations on them:-\n",
    "# Compare se two numbers with below operator:-\n",
    "# Greater than, '>'\n",
    "print(a>b)\n",
    "# Smaller than, '<'\n",
    "print(a<b)\n",
    "# Greater than or equal to, '>='\n",
    "print(a>=b)\n",
    "# Less than or equal to, '<='\n",
    "print(a<=b)\n",
    "# Observe their output(return type should be boolean)"
   ]
  },
  {
   "cell_type": "code",
   "execution_count": 7,
   "metadata": {
    "ExecuteTime": {
     "end_time": "2021-04-18T08:29:50.511809Z",
     "start_time": "2021-04-18T08:29:50.493823Z"
    }
   },
   "outputs": [
    {
     "name": "stdout",
     "output_type": "stream",
     "text": [
      "False\n",
      "True\n"
     ]
    }
   ],
   "source": [
    "# Equality Operator\n",
    "# Take two different integer values.\n",
    "# Store them in two different variables.\n",
    "a = 10\n",
    "b = 20\n",
    "# Equate them using equality operators (==, !=)\n",
    "# Observe the output(return type should be boolean)\n",
    "print(a==b)\n",
    "print(a!=b)"
   ]
  },
  {
   "cell_type": "code",
   "execution_count": 8,
   "metadata": {
    "ExecuteTime": {
     "end_time": "2021-04-18T08:30:02.200132Z",
     "start_time": "2021-04-18T08:30:02.184177Z"
    }
   },
   "outputs": [
    {
     "name": "stdout",
     "output_type": "stream",
     "text": [
      "20\n",
      "0\n",
      "0\n",
      "0\n",
      "10\n",
      "20\n",
      "20\n",
      "0\n",
      "False\n",
      "True\n"
     ]
    }
   ],
   "source": [
    "# Logical operators\n",
    "# Observe the output of below code\n",
    "\n",
    "# Cross check the output manually\n",
    "print(10 and 20)\n",
    "#----------------------------------------->Output is 20\n",
    "print(0 and 20)\n",
    "#----------------------------------------->Output is 0\n",
    "print(20 and 0)\n",
    "#----------------------------------------->Output is 0\n",
    "print(0 and 0)\n",
    "#----------------------------------------->Output is 0\n",
    "print(10 or 20)\n",
    "#----------------------------------------->Output is 10\n",
    "print(0 or 20)\n",
    "#----------------------------------------->Output is 20\n",
    "print(20 or 0)\n",
    "#----------------------------------------->Output is 20\n",
    "print(0 or 0)\n",
    "#----------------------------------------->Output is 0\n",
    "print(not 10)\n",
    "#----------------------------------------->Output is False\n",
    "print(not 0)\n",
    "#----------------------------------------->Output is True"
   ]
  },
  {
   "cell_type": "code",
   "execution_count": 16,
   "metadata": {
    "ExecuteTime": {
     "end_time": "2021-04-18T08:35:12.620666Z",
     "start_time": "2021-04-18T08:35:12.601677Z"
    }
   },
   "outputs": [
    {
     "name": "stdout",
     "output_type": "stream",
     "text": [
      "0b1010\n",
      "0b10100\n",
      "880\n",
      "0\n"
     ]
    }
   ],
   "source": [
    "# Bitwise Operators\n",
    "# Do below operations on the values provided below:-\n",
    "# Bitwise and(&) -----------------------------------------> 10, 20-------> Output is 0\n",
    "# Bitwise or(|) -----------------------------------------> 10, 20-------> Output is 30\n",
    "# Bitwise(^) -----------------------------------------> 10, 20-------> Output is 30\n",
    "# Bitwise negation(~) ------------------------------------> 10-------> Output is -11\n",
    "# Bitwise left shift ------------------------------------> 10,2-------> Output is 40\n",
    "# Bitwise right shift ------------------------------------> 10,2-------> Output is 2\n",
    "# Cross check the output manually\n",
    "print(bin(10))\n",
    "print(bin(20))\n",
    "print(1010 & 10100)\n",
    "# 01010\n",
    "# 10100\n",
    "# ------\n",
    "# 00000\n",
    "print(0b0000)"
   ]
  },
  {
   "cell_type": "code",
   "execution_count": 17,
   "metadata": {
    "ExecuteTime": {
     "end_time": "2021-04-18T08:41:06.200914Z",
     "start_time": "2021-04-18T08:41:06.180950Z"
    }
   },
   "outputs": [
    {
     "name": "stdout",
     "output_type": "stream",
     "text": [
      "True\n",
      "False\n",
      "False\n",
      "True\n"
     ]
    }
   ],
   "source": [
    "# What is the output of expression inside print statement. Cross check\n",
    "# before running the program.\n",
    "\n",
    "a = 10\n",
    "b = 10\n",
    "print(a is b) #True or False? True\n",
    "print(a is not b) #True or False? False\n",
    "a = 1000\n",
    "b = 1000\n",
    "print(a is b) #True or False? False\n",
    "print(a is not b) #True or False? True"
   ]
  },
  {
   "cell_type": "code",
   "execution_count": 20,
   "metadata": {
    "ExecuteTime": {
     "end_time": "2021-04-18T08:52:52.026322Z",
     "start_time": "2021-04-18T08:52:52.008332Z"
    }
   },
   "outputs": [
    {
     "name": "stdout",
     "output_type": "stream",
     "text": [
      "20\n"
     ]
    }
   ],
   "source": [
    "# What is the output of expression inside print statement. Cross check\n",
    "# before running the program.\n",
    "print(10+(10*32)//2**5&20+(~(-10))<<2)\n",
    "# BODOMOS\n",
    "# print(10+(320)//2**5&20+((9))<<2)\n",
    "# print(10+(320)//32&20+(9))<<2)\n",
    "# print(10+(320)//32&20+(9))<<2)"
   ]
  },
  {
   "cell_type": "code",
   "execution_count": 21,
   "metadata": {
    "ExecuteTime": {
     "end_time": "2021-04-18T08:53:00.539057Z",
     "start_time": "2021-04-18T08:53:00.517070Z"
    }
   },
   "outputs": [
    {
     "name": "stdout",
     "output_type": "stream",
     "text": [
      "True\n",
      "True\n",
      "True\n",
      "True\n",
      "True\n",
      "True\n"
     ]
    }
   ],
   "source": [
    "# Membership operation\n",
    "# in, not in are two membership operators and it returns boolean value\n",
    "print('2' in 'Python2.7.8')\n",
    "print(10 in [10,10.20,10+20j,'Python'])\n",
    "print(10 in (10,10.20,10+20j,'Python'))\n",
    "print(2 in {1,2,3})\n",
    "print(3 in {1:100, 2:200, 3:300})\n",
    "print(10 in range(20))"
   ]
  },
  {
   "cell_type": "code",
   "execution_count": 27,
   "metadata": {
    "ExecuteTime": {
     "end_time": "2021-04-18T08:54:48.666500Z",
     "start_time": "2021-04-18T08:54:48.650503Z"
    }
   },
   "outputs": [
    {
     "name": "stdout",
     "output_type": "stream",
     "text": [
      "0b10011010010100\n",
      "0o23224\n",
      "0x2694\n",
      "9876\n"
     ]
    }
   ],
   "source": [
    "# An integer can be represented in binary, octal or hexadecimal form.\n",
    "# Declare one binary, one octal and one hexadecimal value and store them\n",
    "# in three different variables.\n",
    "# Convert 9876 to its binary, octal and hexadecimal equivalent and print\n",
    "# their corresponding value.\n",
    "a = 9876\n",
    "print(bin(a))\n",
    "print(oct(a))\n",
    "print(hex(a))\n",
    "print((a))"
   ]
  },
  {
   "cell_type": "code",
   "execution_count": null,
   "metadata": {},
   "outputs": [],
   "source": [
    "# What will be the output of following:-\n",
    "a = 0b1010000\n",
    "print(a)\n",
    "b = 0o7436\n",
    "print(b)\n",
    "c = 0xfade\n",
    "print(c)\n",
    "print(bin(80))\n",
    "\n",
    "print(oct(3870))\n",
    "print(hex(64222))\n",
    "print(bin(0b1010000))\n",
    "print(bin(0xfade))\n",
    "print(oct(0xfade))\n",
    "print(oct(0o7436))\n",
    "print(hex(0b1010000))\n",
    "print(hex(0xfade))"
   ]
  },
  {
   "cell_type": "code",
   "execution_count": null,
   "metadata": {},
   "outputs": [],
   "source": []
  },
  {
   "cell_type": "code",
   "execution_count": null,
   "metadata": {},
   "outputs": [],
   "source": []
  },
  {
   "cell_type": "code",
   "execution_count": null,
   "metadata": {},
   "outputs": [],
   "source": []
  }
 ],
 "metadata": {
  "kernelspec": {
   "display_name": "Python 3",
   "language": "python",
   "name": "python3"
  },
  "language_info": {
   "codemirror_mode": {
    "name": "ipython",
    "version": 3
   },
   "file_extension": ".py",
   "mimetype": "text/x-python",
   "name": "python",
   "nbconvert_exporter": "python",
   "pygments_lexer": "ipython3",
   "version": "3.8.5"
  },
  "varInspector": {
   "cols": {
    "lenName": 16,
    "lenType": 16,
    "lenVar": 40
   },
   "kernels_config": {
    "python": {
     "delete_cmd_postfix": "",
     "delete_cmd_prefix": "del ",
     "library": "var_list.py",
     "varRefreshCmd": "print(var_dic_list())"
    },
    "r": {
     "delete_cmd_postfix": ") ",
     "delete_cmd_prefix": "rm(",
     "library": "var_list.r",
     "varRefreshCmd": "cat(var_dic_list()) "
    }
   },
   "types_to_exclude": [
    "module",
    "function",
    "builtin_function_or_method",
    "instance",
    "_Feature"
   ],
   "window_display": false
  }
 },
 "nbformat": 4,
 "nbformat_minor": 4
}
