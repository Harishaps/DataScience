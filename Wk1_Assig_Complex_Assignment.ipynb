{
 "cells": [
  {
   "cell_type": "code",
   "execution_count": 1,
   "metadata": {
    "ExecuteTime": {
     "end_time": "2021-04-18T07:02:24.709410Z",
     "start_time": "2021-04-18T07:02:24.692421Z"
    }
   },
   "outputs": [
    {
     "name": "stdout",
     "output_type": "stream",
     "text": [
      "<class 'complex'> 1654882946832\n"
     ]
    }
   ],
   "source": [
    "# Declare a complex number and store it in a variable.\n",
    "# Check the type and print the id of the same.\n",
    "\n",
    "a=10+20j\n",
    "print(type(a),id(a))\n"
   ]
  },
  {
   "cell_type": "code",
   "execution_count": 10,
   "metadata": {
    "ExecuteTime": {
     "end_time": "2021-04-18T07:04:32.660733Z",
     "start_time": "2021-04-18T07:04:32.651742Z"
    }
   },
   "outputs": [
    {
     "name": "stdout",
     "output_type": "stream",
     "text": [
      "(40+60j)\n",
      "(-20-20j)\n",
      "(-500+1000j)\n",
      "(0.44+0.08j)\n"
     ]
    }
   ],
   "source": [
    "# Arithmetic Operations on complex number\n",
    "# Take two different complex numbers.\n",
    "# Store them in two different variables.\n",
    "a = 10 + 20j\n",
    "b = 30 + 40j\n",
    "# Do below operations on them:-\n",
    "# Find sum of both numbers\n",
    "print(a+b)\n",
    "# Find difference between them\n",
    "print(a-b)\n",
    "# Find the product of both numbers.\n",
    "print(a*b)\n",
    "# Find value after dividing first num with second number\n",
    "print(a/b)\n",
    "# Find the result of the first num to the power of the second number.\n",
    "# print(img(a)^img(b))--Error"
   ]
  },
  {
   "cell_type": "code",
   "execution_count": null,
   "metadata": {},
   "outputs": [],
   "source": [
    "# Comparison Operation not applicable between instance of complex values.\n",
    "# Object reusability concept is not applicable on complex number00"
   ]
  },
  {
   "cell_type": "code",
   "execution_count": 11,
   "metadata": {
    "ExecuteTime": {
     "end_time": "2021-04-18T07:57:04.248291Z",
     "start_time": "2021-04-18T07:57:04.241295Z"
    }
   },
   "outputs": [
    {
     "name": "stdout",
     "output_type": "stream",
     "text": [
      "True\n",
      "False\n"
     ]
    }
   ],
   "source": [
    "# Equality Operator\n",
    "# Take two different complex numbers.\n",
    "# Store them in two different variables.\n",
    "a = 10 + 20j\n",
    "b = 10 + 20j\n",
    "# Equate them using equality operators (==, !=)\n",
    "print (a == b)\n",
    "print (a != b)\n",
    "# Observe the output(return type should be boolean)"
   ]
  },
  {
   "cell_type": "code",
   "execution_count": 12,
   "metadata": {
    "ExecuteTime": {
     "end_time": "2021-04-18T07:57:19.583135Z",
     "start_time": "2021-04-18T07:57:19.551932Z"
    }
   },
   "outputs": [
    {
     "name": "stdout",
     "output_type": "stream",
     "text": [
      "(20+30j)\n",
      "0j\n",
      "0j\n",
      "0j\n",
      "(10+20j)\n",
      "(20+30j)\n",
      "(20+30j)\n",
      "0j\n",
      "False\n",
      "True\n"
     ]
    }
   ],
   "source": [
    "# Logical operators\n",
    "# Observe the output of below code\n",
    "# Cross check the output manually\n",
    "print(10+20j and 20+30j) #20+30j\n",
    "#----------------------------------------->Output is 20+30j\n",
    "print(0+0j and 20+30j) #0+0j\n",
    "#----------------------------------------->Output is 0j\n",
    "print(20+30j and 0+0j) #0+0j\n",
    "#----------------------------------------->Output is 0j\n",
    "print(0+0j and 0+0j) #0+0j\n",
    "#----------------------------------------->Output is 0j\n",
    "print(10+20j or 20+30j) #10+20j\n",
    "#----------------------------------------->Output is 10+20j\n",
    "\n",
    "print(0+0j or 20+30j) #20+30j\n",
    "#----------------------------------------->Output is 20+30j\n",
    "print(20+30j or 0+0j) #20+30j\n",
    "#----------------------------------------->Output is 20+30j\n",
    "print(0+0j or 0+0j) #0+0j\n",
    "#----------------------------------------->Output is 0j\n",
    "print(not 10+20j) #False\n",
    "#----------------------------------------->Output is False\n",
    "print(not 0+0j) #True\n",
    "#----------------------------------------->Output is True"
   ]
  },
  {
   "cell_type": "code",
   "execution_count": 14,
   "metadata": {
    "ExecuteTime": {
     "end_time": "2021-04-18T07:58:52.996264Z",
     "start_time": "2021-04-18T07:58:52.986292Z"
    }
   },
   "outputs": [
    {
     "name": "stdout",
     "output_type": "stream",
     "text": [
      "False\n",
      "True\n"
     ]
    }
   ],
   "source": [
    "# What is the output of the expression inside the print statement.\n",
    "# Cross check before running the program.\n",
    "a = 10+20j\n",
    "b = 10+20j\n",
    "print(a is b) #False #True or False? false\n",
    "print(a is not b) #True #True or False? true"
   ]
  },
  {
   "cell_type": "code",
   "execution_count": 15,
   "metadata": {
    "ExecuteTime": {
     "end_time": "2021-04-18T07:59:08.728034Z",
     "start_time": "2021-04-18T07:59:08.694075Z"
    }
   },
   "outputs": [
    {
     "name": "stdout",
     "output_type": "stream",
     "text": [
      "True\n",
      "True\n",
      "True\n",
      "True\n",
      "True\n",
      "True\n"
     ]
    }
   ],
   "source": [
    "# Membership operation\n",
    "# in, not in are two membership operators and it returns boolean value\n",
    "print('2.7' in 'Python2.7.8') #True\n",
    "print(10+20j in [10,10.20,10+20j,'Python']) #True\n",
    "print(10+20j in (10,10.20,10+20j,'Python')) #True\n",
    "print(30+40j in {1,20.30,30+40j}) #True\n",
    "print(30+40j in {1:100, 2.3:200, 30+40j:300}) #True\n",
    "print(10 in range(20)) #True"
   ]
  },
  {
   "cell_type": "code",
   "execution_count": null,
   "metadata": {},
   "outputs": [],
   "source": []
  },
  {
   "cell_type": "code",
   "execution_count": null,
   "metadata": {},
   "outputs": [],
   "source": []
  },
  {
   "cell_type": "code",
   "execution_count": null,
   "metadata": {},
   "outputs": [],
   "source": []
  },
  {
   "cell_type": "code",
   "execution_count": null,
   "metadata": {},
   "outputs": [],
   "source": []
  },
  {
   "cell_type": "code",
   "execution_count": null,
   "metadata": {},
   "outputs": [],
   "source": []
  },
  {
   "cell_type": "code",
   "execution_count": null,
   "metadata": {},
   "outputs": [],
   "source": []
  },
  {
   "cell_type": "code",
   "execution_count": null,
   "metadata": {},
   "outputs": [],
   "source": []
  },
  {
   "cell_type": "code",
   "execution_count": null,
   "metadata": {},
   "outputs": [],
   "source": []
  }
 ],
 "metadata": {
  "kernelspec": {
   "display_name": "Python 3",
   "language": "python",
   "name": "python3"
  },
  "language_info": {
   "codemirror_mode": {
    "name": "ipython",
    "version": 3
   },
   "file_extension": ".py",
   "mimetype": "text/x-python",
   "name": "python",
   "nbconvert_exporter": "python",
   "pygments_lexer": "ipython3",
   "version": "3.8.5"
  },
  "varInspector": {
   "cols": {
    "lenName": 16,
    "lenType": 16,
    "lenVar": 40
   },
   "kernels_config": {
    "python": {
     "delete_cmd_postfix": "",
     "delete_cmd_prefix": "del ",
     "library": "var_list.py",
     "varRefreshCmd": "print(var_dic_list())"
    },
    "r": {
     "delete_cmd_postfix": ") ",
     "delete_cmd_prefix": "rm(",
     "library": "var_list.r",
     "varRefreshCmd": "cat(var_dic_list()) "
    }
   },
   "types_to_exclude": [
    "module",
    "function",
    "builtin_function_or_method",
    "instance",
    "_Feature"
   ],
   "window_display": false
  }
 },
 "nbformat": 4,
 "nbformat_minor": 4
}
