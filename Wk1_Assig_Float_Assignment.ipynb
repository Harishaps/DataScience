{
 "cells": [
  {
   "cell_type": "code",
   "execution_count": 3,
   "metadata": {
    "ExecuteTime": {
     "end_time": "2021-04-18T08:10:34.568527Z",
     "start_time": "2021-04-18T08:10:34.547536Z"
    }
   },
   "outputs": [
    {
     "name": "stdout",
     "output_type": "stream",
     "text": [
      "<class 'float'> 1926616405584\n",
      "<class 'float'> 1926557951696\n"
     ]
    }
   ],
   "source": [
    "# Declare a float value and store it in a variable.\n",
    "# Check the type and print the id of the same.\n",
    "\n",
    "a = 10.0\n",
    "b = 20.1\n",
    "print(type(a),id(a))\n",
    "print(type(b),id(b))"
   ]
  },
  {
   "cell_type": "code",
   "execution_count": 5,
   "metadata": {
    "ExecuteTime": {
     "end_time": "2021-04-18T08:12:32.153106Z",
     "start_time": "2021-04-18T08:12:32.135138Z"
    }
   },
   "outputs": [
    {
     "name": "stdout",
     "output_type": "stream",
     "text": [
      "30.299999999999997\n",
      "10.1\n",
      "204.01999999999998\n",
      "2.0\n",
      "2.0\n",
      "0.0\n",
      "15277378250983.594\n"
     ]
    }
   ],
   "source": [
    "# Arithmetic Operations on float\n",
    "# Take two different float values.\n",
    "# Store them in two different variables.\n",
    "a = 20.2\n",
    "b = 10.1\n",
    "# Do below operations on them:-\n",
    "# Find sum of both numbers\n",
    "print(a+b)\n",
    "# Find difference between them\n",
    "print(a-b)\n",
    "# Find the product of both numbers.\n",
    "print(a*b)\n",
    "# Find value after dividing first num with second number\n",
    "print(a/b)\n",
    "# Find the remainder after dividing first number with second number\n",
    "print(a//b)\n",
    "# Find the quotient after dividing first number with second number\n",
    "print(a%b)\n",
    "# Find the result of the first num to the power of the second number.\n",
    "print(a**b)"
   ]
  },
  {
   "cell_type": "code",
   "execution_count": 8,
   "metadata": {
    "ExecuteTime": {
     "end_time": "2021-04-18T08:13:37.964005Z",
     "start_time": "2021-04-18T08:13:37.953012Z"
    }
   },
   "outputs": [
    {
     "name": "stdout",
     "output_type": "stream",
     "text": [
      "False\n",
      "True\n",
      "False\n",
      "True\n"
     ]
    }
   ],
   "source": [
    "# Comparison Operators on float\n",
    "# Take two different float values.\n",
    "# Store them in two different variables.\n",
    "a = 100.01\n",
    "b = 200.02\n",
    "# Do below operations on them:-\n",
    "# Compare these two numbers with below operator:-\n",
    "# Greater than, '>'\n",
    "print(a>b)\n",
    "# Smaller than, '<'\n",
    "print(a<b)\n",
    "# Greater than or equal to, '>='\n",
    "print(a>=b)\n",
    "# Less than or equal to, '<='\n",
    "print(a<=b)\n",
    "# Observe their output(return type should be boolean)"
   ]
  },
  {
   "cell_type": "code",
   "execution_count": 9,
   "metadata": {
    "ExecuteTime": {
     "end_time": "2021-04-18T08:14:17.491088Z",
     "start_time": "2021-04-18T08:14:17.471076Z"
    }
   },
   "outputs": [
    {
     "name": "stdout",
     "output_type": "stream",
     "text": [
      "False\n",
      "True\n"
     ]
    }
   ],
   "source": [
    "# Equality Operator\n",
    "# Take two different float values.\n",
    "# Store them in two different variables.\n",
    "a = 100.01\n",
    "b = 200.20\n",
    "# Equate them using equality operators (==, !=)\n",
    "print ( a== b)\n",
    "print (a!=b)\n",
    "# Observe the output(return type should be boolean)"
   ]
  },
  {
   "cell_type": "code",
   "execution_count": 10,
   "metadata": {
    "ExecuteTime": {
     "end_time": "2021-04-18T08:15:18.428239Z",
     "start_time": "2021-04-18T08:15:18.418248Z"
    }
   },
   "outputs": [
    {
     "name": "stdout",
     "output_type": "stream",
     "text": [
      "20.3\n",
      "0.0\n",
      "0.0\n",
      "0.0\n",
      "10.2\n",
      "20.3\n",
      "20.3\n",
      "0.0\n",
      "False\n",
      "True\n"
     ]
    }
   ],
   "source": [
    "# Logical operators\n",
    "# Observe the output of below code\n",
    "# Cross check the output manually\n",
    "print(10.20 and 20.30) #both are true and second value taken Output is 20.3\n",
    "print(0.0 and 20.30) #First is false so first value taken->Output is 0.0\n",
    "print(20.30 and 0.0) #Goes to till second and second value isfalse so second is taken>Output is 0.0\n",
    "print(0.0 and 0.0) #First is false so first value is taken->Output is 0.0\n",
    "print(10.20 or 20.30) #First is True so first value is taken>Output is 10.2\n",
    "print(0.0 or 20.30) #Goes to till second and second is true second value is taken->Output is 20.3\n",
    "print(20.30 or 0.0) #First is True so first value is taken->Output is 20.3\n",
    "print(0.0 or 0.0) #Goes to till second and second is also false and second value is taken>Output is 0.0\n",
    "print(not 10.20) #-Not of true is false->Output is False\n",
    "print(not 0.0) #Not of false is True>Output is True"
   ]
  },
  {
   "cell_type": "code",
   "execution_count": 12,
   "metadata": {
    "ExecuteTime": {
     "end_time": "2021-04-18T08:16:39.795721Z",
     "start_time": "2021-04-18T08:16:39.773734Z"
    }
   },
   "outputs": [
    {
     "name": "stdout",
     "output_type": "stream",
     "text": [
      "False\n",
      "True\n",
      "1926616406672\n",
      "1926616405936\n"
     ]
    }
   ],
   "source": [
    "# What is the output of expression inside print statement. Cross check\n",
    "# before running the program.\n",
    "a = 10.20\n",
    "b = 10.20\n",
    "print(a is b) #True or False? True 10.20<256\n",
    "print(a is not b) #True or False? False\n",
    "# Why the Id of float values are different when the same value is\n",
    "# assigned to two different variables\n",
    "# ex: a = 10.5 b=10.5. but id will be same if I assign the variable\n",
    "# having float i.e. a=c then both a and c's Id are same\n",
    "print(id(a))\n",
    "print(id(b))"
   ]
  },
  {
   "cell_type": "code",
   "execution_count": 13,
   "metadata": {
    "ExecuteTime": {
     "end_time": "2021-04-18T08:18:24.307079Z",
     "start_time": "2021-04-18T08:18:24.290069Z"
    }
   },
   "outputs": [
    {
     "name": "stdout",
     "output_type": "stream",
     "text": [
      "1926616406800\n",
      "1926576507728\n",
      "1926616406800\n"
     ]
    }
   ],
   "source": [
    "# Bitwise operation is not applicable between instances of float.\n",
    "# Why the Id of float values are different when the same value is\n",
    "# assigned to two different variables\n",
    "# ex: a = 10.5 b=10.5. but id will be same if I assign the variable\n",
    "# having float i.e. a=c then both a and c's Id are same\n",
    "# Object reusability concept is not applicable on float values.\n",
    "a = 10.5\n",
    "b = 10.5\n",
    "c = a\n",
    "print(id(a))\n",
    "print(id(b))\n",
    "print(id(c))"
   ]
  },
  {
   "cell_type": "code",
   "execution_count": 14,
   "metadata": {
    "ExecuteTime": {
     "end_time": "2021-04-18T08:18:37.327328Z",
     "start_time": "2021-04-18T08:18:37.315333Z"
    }
   },
   "outputs": [
    {
     "name": "stdout",
     "output_type": "stream",
     "text": [
      "True\n",
      "True\n",
      "True\n",
      "True\n",
      "True\n",
      "True\n"
     ]
    }
   ],
   "source": [
    "# Membership operation\n",
    "# in, not in are two membership operators and it returns boolean value\n",
    "print('2.7' in 'Python2.7.8') #True\n",
    "print(10.20 in [10,10.20,10+20j,'Python']) #True - List\n",
    "print(10.20 in (10,10.20,10+20j,'Python')) # True - Tuple\n",
    "print(20.30 in {1,20.30,30+40j}) # True - Set\n",
    "print(2.3 in {1:100, 2.3:200, 30+40j:300}) # True\n",
    "print(10 in range(20)) # True"
   ]
  },
  {
   "cell_type": "code",
   "execution_count": null,
   "metadata": {},
   "outputs": [],
   "source": []
  },
  {
   "cell_type": "code",
   "execution_count": null,
   "metadata": {},
   "outputs": [],
   "source": []
  },
  {
   "cell_type": "code",
   "execution_count": null,
   "metadata": {},
   "outputs": [],
   "source": []
  },
  {
   "cell_type": "code",
   "execution_count": null,
   "metadata": {},
   "outputs": [],
   "source": []
  },
  {
   "cell_type": "code",
   "execution_count": null,
   "metadata": {},
   "outputs": [],
   "source": []
  },
  {
   "cell_type": "code",
   "execution_count": null,
   "metadata": {},
   "outputs": [],
   "source": []
  },
  {
   "cell_type": "code",
   "execution_count": null,
   "metadata": {},
   "outputs": [],
   "source": []
  },
  {
   "cell_type": "code",
   "execution_count": null,
   "metadata": {},
   "outputs": [],
   "source": []
  },
  {
   "cell_type": "code",
   "execution_count": null,
   "metadata": {},
   "outputs": [],
   "source": []
  },
  {
   "cell_type": "code",
   "execution_count": null,
   "metadata": {},
   "outputs": [],
   "source": []
  },
  {
   "cell_type": "code",
   "execution_count": null,
   "metadata": {},
   "outputs": [],
   "source": []
  },
  {
   "cell_type": "code",
   "execution_count": null,
   "metadata": {},
   "outputs": [],
   "source": []
  },
  {
   "cell_type": "code",
   "execution_count": null,
   "metadata": {},
   "outputs": [],
   "source": []
  },
  {
   "cell_type": "code",
   "execution_count": null,
   "metadata": {},
   "outputs": [],
   "source": []
  },
  {
   "cell_type": "code",
   "execution_count": null,
   "metadata": {},
   "outputs": [],
   "source": []
  },
  {
   "cell_type": "code",
   "execution_count": null,
   "metadata": {},
   "outputs": [],
   "source": []
  },
  {
   "cell_type": "code",
   "execution_count": null,
   "metadata": {},
   "outputs": [],
   "source": []
  },
  {
   "cell_type": "code",
   "execution_count": null,
   "metadata": {},
   "outputs": [],
   "source": []
  },
  {
   "cell_type": "code",
   "execution_count": null,
   "metadata": {},
   "outputs": [],
   "source": []
  },
  {
   "cell_type": "code",
   "execution_count": null,
   "metadata": {},
   "outputs": [],
   "source": []
  },
  {
   "cell_type": "code",
   "execution_count": null,
   "metadata": {},
   "outputs": [],
   "source": []
  },
  {
   "cell_type": "code",
   "execution_count": null,
   "metadata": {},
   "outputs": [],
   "source": []
  },
  {
   "cell_type": "code",
   "execution_count": null,
   "metadata": {},
   "outputs": [],
   "source": []
  },
  {
   "cell_type": "code",
   "execution_count": null,
   "metadata": {},
   "outputs": [],
   "source": []
  }
 ],
 "metadata": {
  "kernelspec": {
   "display_name": "Python 3",
   "language": "python",
   "name": "python3"
  },
  "language_info": {
   "codemirror_mode": {
    "name": "ipython",
    "version": 3
   },
   "file_extension": ".py",
   "mimetype": "text/x-python",
   "name": "python",
   "nbconvert_exporter": "python",
   "pygments_lexer": "ipython3",
   "version": "3.8.5"
  },
  "varInspector": {
   "cols": {
    "lenName": 16,
    "lenType": 16,
    "lenVar": 40
   },
   "kernels_config": {
    "python": {
     "delete_cmd_postfix": "",
     "delete_cmd_prefix": "del ",
     "library": "var_list.py",
     "varRefreshCmd": "print(var_dic_list())"
    },
    "r": {
     "delete_cmd_postfix": ") ",
     "delete_cmd_prefix": "rm(",
     "library": "var_list.r",
     "varRefreshCmd": "cat(var_dic_list()) "
    }
   },
   "types_to_exclude": [
    "module",
    "function",
    "builtin_function_or_method",
    "instance",
    "_Feature"
   ],
   "window_display": false
  }
 },
 "nbformat": 4,
 "nbformat_minor": 4
}
