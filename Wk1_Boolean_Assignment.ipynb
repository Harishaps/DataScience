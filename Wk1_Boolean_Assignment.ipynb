{
 "cells": [
  {
   "cell_type": "markdown",
   "metadata": {},
   "source": [
    "# Boolean operator"
   ]
  },
  {
   "cell_type": "code",
   "execution_count": 4,
   "metadata": {
    "ExecuteTime": {
     "end_time": "2021-04-18T06:22:34.261388Z",
     "start_time": "2021-04-18T06:22:34.247402Z"
    }
   },
   "outputs": [
    {
     "name": "stdout",
     "output_type": "stream",
     "text": [
      "<class 'int'> 140710823471168\n",
      "<class 'int'> 140710823471488\n"
     ]
    }
   ],
   "source": [
    "a = 10\n",
    "b = 20\n",
    "print(type(a),id(a))\n",
    "print(type(b),id(b))\n",
    "\n"
   ]
  },
  {
   "cell_type": "code",
   "execution_count": 5,
   "metadata": {
    "ExecuteTime": {
     "end_time": "2021-04-18T06:24:01.000810Z",
     "start_time": "2021-04-18T06:24:00.979825Z"
    }
   },
   "outputs": [
    {
     "name": "stdout",
     "output_type": "stream",
     "text": [
      "140710823471168\n",
      "140710823471168\n",
      "140710823471168\n"
     ]
    }
   ],
   "source": [
    "a = 10\n",
    "b = a\n",
    "c = a\n",
    "print(id(a))\n",
    "print(id(b))\n",
    "print(id(c))\n",
    "\n",
    "#id is same because in Python any values from 0 to 256 if it gets repeatedly assigned to a different variables then they share the\n",
    "# same memory address"
   ]
  },
  {
   "cell_type": "code",
   "execution_count": 6,
   "metadata": {
    "ExecuteTime": {
     "end_time": "2021-04-18T06:26:46.753525Z",
     "start_time": "2021-04-18T06:26:46.731539Z"
    }
   },
   "outputs": [
    {
     "name": "stdout",
     "output_type": "stream",
     "text": [
      "210\n",
      "190\n",
      "2000\n",
      "20.0\n",
      "20\n",
      "0\n",
      "194\n"
     ]
    }
   ],
   "source": [
    "a = 200\n",
    "b = 10\n",
    "# Find sum of both values\n",
    "print(a+b)\n",
    "# Find difference between them\n",
    "print(a-b)\n",
    "# Find the product of both.\n",
    "print(a*b)\n",
    "# Find value after dividing first value with second value\n",
    "print(a/b)\n",
    "# Find the remainder after dividing first value with second value\n",
    "print(a//b)\n",
    "# Find the quotient after dividing first value with second value\n",
    "print(a%b)\n",
    "# Find the result of first value to the power of second value.\n",
    "print(a^b)"
   ]
  },
  {
   "cell_type": "code",
   "execution_count": 7,
   "metadata": {
    "ExecuteTime": {
     "end_time": "2021-04-18T06:28:18.268515Z",
     "start_time": "2021-04-18T06:28:18.252900Z"
    }
   },
   "outputs": [
    {
     "name": "stdout",
     "output_type": "stream",
     "text": [
      "True\n",
      "False\n",
      "True\n",
      "False\n"
     ]
    }
   ],
   "source": [
    "# Comparison Operators on boolean values\n",
    "# Take two different boolean values.\n",
    "# Store them in two different variables.\n",
    "a = 200\n",
    "b = 10\n",
    "\n",
    "# Do below operations on them:-\n",
    "# Compare these two values with below operator:-\n",
    "# Greater than, '>'\n",
    "print (a>b)\n",
    "# less than, '<'\n",
    "print(a<b)\n",
    "# Greater than or equal to, '>='\n",
    "print (a>=b)\n",
    "# Less than or equal to, '<='\n",
    "print(a<=b)\n",
    "# Observe their output(return type should be boolean)"
   ]
  },
  {
   "cell_type": "code",
   "execution_count": 9,
   "metadata": {
    "ExecuteTime": {
     "end_time": "2021-04-18T06:29:15.960847Z",
     "start_time": "2021-04-18T06:29:15.950853Z"
    }
   },
   "outputs": [
    {
     "name": "stdout",
     "output_type": "stream",
     "text": [
      "False\n",
      "True\n"
     ]
    }
   ],
   "source": [
    "# Equality Operator\n",
    "# Take two different boolean values.\n",
    "# Store them in two different variables.\n",
    "a = 200\n",
    "b = 100\n",
    "# Equate them using equality operators (==, !=)\n",
    "print(a == b)\n",
    "print(a != b)\n",
    "# Observe the output(return type should be boolean)"
   ]
  },
  {
   "cell_type": "code",
   "execution_count": 10,
   "metadata": {
    "ExecuteTime": {
     "end_time": "2021-04-18T06:29:57.030737Z",
     "start_time": "2021-04-18T06:29:57.012750Z"
    }
   },
   "outputs": [
    {
     "name": "stdout",
     "output_type": "stream",
     "text": [
      "True\n",
      "False\n",
      "False\n",
      "False\n",
      "True\n",
      "True\n",
      "True\n",
      "False\n",
      "False\n",
      "True\n"
     ]
    }
   ],
   "source": [
    "# Logical operators\n",
    "# Observe the output of below code\n",
    "# Cross check the output manually\n",
    "print(True and True)\n",
    "#----------------------------------------->Output is True\n",
    "print(False and True)\n",
    "#----------------------------------------->Output is False\n",
    "print(True and False)\n",
    "#----------------------------------------->Output is False\n",
    "print(False and False)\n",
    "#----------------------------------------->Output is False\n",
    "print(True or True)\n",
    "#----------------------------------------->Output is True\n",
    "print(False or True)\n",
    "#----------------------------------------->Output is True\n",
    "print(True or False)\n",
    "#----------------------------------------->Output is True\n",
    "print(False or False)\n",
    "#----------------------------------------->Output is False\n",
    "print(not True)\n",
    "#----------------------------------------->Output is False\n",
    "print(not False)\n",
    "#----------------------------------------->Output is True"
   ]
  },
  {
   "cell_type": "code",
   "execution_count": 20,
   "metadata": {
    "ExecuteTime": {
     "end_time": "2021-04-18T06:42:02.025286Z",
     "start_time": "2021-04-18T06:42:02.007297Z"
    }
   },
   "outputs": [
    {
     "name": "stdout",
     "output_type": "stream",
     "text": [
      "True\n",
      "True\n",
      "True\n",
      "-2\n",
      "4\n",
      "0\n"
     ]
    }
   ],
   "source": [
    "# Bitwise Operators\n",
    "# Do below operations on the values provided below:-\n",
    "# Bitwise and(&) --------------> True, True -------> Output is True\n",
    "# Bitwise or(|) --------------> True, False -------> Output is True\n",
    "# Bitwise(^) --------------> True, False -------> Output is True\n",
    "# Bitwise negation(~) ---------> True -------> Output is -2\n",
    "# Bitwise left shift ---------> True,2 -------> Output is 4\n",
    "# Bitwise right shift ---------> True,2 -------> Output is 0\n",
    "# Cross check the output manually\n",
    "a = True\n",
    "b = True\n",
    "print(a&b)\n",
    "a = True\n",
    "b = False\n",
    "print(a|b)\n",
    "a = True\n",
    "b = False\n",
    "print(a^b)\n",
    "a = True\n",
    "print(~a)\n",
    "a = True\n",
    "print(a<<2)\n",
    "a = True\n",
    "print(a>>2)"
   ]
  },
  {
   "cell_type": "raw",
   "metadata": {
    "ExecuteTime": {
     "end_time": "2021-04-18T06:43:32.747659Z",
     "start_time": "2021-04-18T06:43:32.731724Z"
    }
   },
   "source": [
    "# What is the output of expression inside the print statement. Cross\n",
    "# check before running the program.\n",
    "a = True\n",
    "b = True\n",
    "print(a is b) #True or False? #True\n",
    "print(a is not b) #True or False? #False\n",
    "a = False\n",
    "b = False\n",
    "print(a is b) #True or False?True\n",
    "print(a is not b) #True or False?False"
   ]
  },
  {
   "cell_type": "code",
   "execution_count": 24,
   "metadata": {
    "ExecuteTime": {
     "end_time": "2021-04-18T06:44:45.655894Z",
     "start_time": "2021-04-18T06:44:45.590093Z"
    }
   },
   "outputs": [
    {
     "name": "stdout",
     "output_type": "stream",
     "text": [
      "True\n",
      "True\n",
      "True\n",
      "True\n",
      "True\n"
     ]
    }
   ],
   "source": [
    "# Membership operation\n",
    "# in, not in are two membership operators and it returns boolean value\n",
    "print(True in [10,10.20,10+20j,'Python', True])\n",
    "# True\n",
    "print(False in (10,10.20,10+20j,'Python', False))\n",
    "# True\n",
    "print(True in {1,2,3, True})\n",
    "# True\n",
    "print(True in {True:100, False:200, True:300})\n",
    "# True\n",
    "print(False in {True:100, False:200, True:300})\n",
    "# True"
   ]
  },
  {
   "cell_type": "code",
   "execution_count": null,
   "metadata": {},
   "outputs": [],
   "source": []
  },
  {
   "cell_type": "code",
   "execution_count": null,
   "metadata": {},
   "outputs": [],
   "source": []
  },
  {
   "cell_type": "code",
   "execution_count": null,
   "metadata": {},
   "outputs": [],
   "source": []
  },
  {
   "cell_type": "code",
   "execution_count": null,
   "metadata": {},
   "outputs": [],
   "source": []
  },
  {
   "cell_type": "code",
   "execution_count": null,
   "metadata": {},
   "outputs": [],
   "source": []
  }
 ],
 "metadata": {
  "kernelspec": {
   "display_name": "Python 3",
   "language": "python",
   "name": "python3"
  },
  "language_info": {
   "codemirror_mode": {
    "name": "ipython",
    "version": 3
   },
   "file_extension": ".py",
   "mimetype": "text/x-python",
   "name": "python",
   "nbconvert_exporter": "python",
   "pygments_lexer": "ipython3",
   "version": "3.8.5"
  },
  "varInspector": {
   "cols": {
    "lenName": 16,
    "lenType": 16,
    "lenVar": 40
   },
   "kernels_config": {
    "python": {
     "delete_cmd_postfix": "",
     "delete_cmd_prefix": "del ",
     "library": "var_list.py",
     "varRefreshCmd": "print(var_dic_list())"
    },
    "r": {
     "delete_cmd_postfix": ") ",
     "delete_cmd_prefix": "rm(",
     "library": "var_list.r",
     "varRefreshCmd": "cat(var_dic_list()) "
    }
   },
   "types_to_exclude": [
    "module",
    "function",
    "builtin_function_or_method",
    "instance",
    "_Feature"
   ],
   "window_display": false
  }
 },
 "nbformat": 4,
 "nbformat_minor": 4
}
